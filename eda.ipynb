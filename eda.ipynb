{
  "cells": [
    {
      "cell_type": "markdown",
      "metadata": {
        "id": "view-in-github",
        "colab_type": "text"
      },
      "source": [
        "<a href=\"https://colab.research.google.com/github/Wilyam08/RS_ML_1/blob/main/eda.ipynb\" target=\"_parent\"><img src=\"https://colab.research.google.com/assets/colab-badge.svg\" alt=\"Open In Colab\"/></a>"
      ]
    },
    {
      "cell_type": "code",
      "execution_count": 1,
      "id": "b489cb9e",
      "metadata": {
        "colab": {
          "base_uri": "https://localhost:8080/"
        },
        "id": "b489cb9e",
        "outputId": "8121ad4e-2778-471c-d6da-32ecf1452f09"
      },
      "outputs": [
        {
          "output_type": "stream",
          "name": "stdout",
          "text": [
            "Mounted at /content/gdrive\n"
          ]
        }
      ],
      "source": [
        "from google.colab import drive\n",
        "drive.mount('/content/gdrive',force_remount = True)\n"
      ]
    },
    {
      "cell_type": "code",
      "source": [
        "import pandas as pd\n",
        "import numpy as np\n",
        "pd.plotting.register_matplotlib_converters()\n",
        "import matplotlib.pyplot as plt\n",
        "%matplotlib inline\n",
        "import seaborn as sns"
      ],
      "metadata": {
        "id": "mAkGpF47p4Vg"
      },
      "id": "mAkGpF47p4Vg",
      "execution_count": 13,
      "outputs": []
    },
    {
      "cell_type": "code",
      "source": [
        "path = '/content/gdrive/MyDrive/Colab Notebooks/train.csv'\n",
        "titanic_data = pd.read_csv(path, index_col = 0)\n"
      ],
      "metadata": {
        "id": "3UWI6j9jp9PC"
      },
      "id": "3UWI6j9jp9PC",
      "execution_count": 5,
      "outputs": []
    },
    {
      "cell_type": "code",
      "source": [
        "titanic_data.head()"
      ],
      "metadata": {
        "colab": {
          "base_uri": "https://localhost:8080/",
          "height": 238
        },
        "id": "Fk2LyPnTqCwk",
        "outputId": "593bb41f-6faf-477e-b80d-ec81e2662d3e"
      },
      "id": "Fk2LyPnTqCwk",
      "execution_count": 6,
      "outputs": [
        {
          "output_type": "execute_result",
          "data": {
            "text/html": [
              "\n",
              "  <div id=\"df-daf41f55-dc90-454c-82f7-3a12f0cb50b9\">\n",
              "    <div class=\"colab-df-container\">\n",
              "      <div>\n",
              "<style scoped>\n",
              "    .dataframe tbody tr th:only-of-type {\n",
              "        vertical-align: middle;\n",
              "    }\n",
              "\n",
              "    .dataframe tbody tr th {\n",
              "        vertical-align: top;\n",
              "    }\n",
              "\n",
              "    .dataframe thead th {\n",
              "        text-align: right;\n",
              "    }\n",
              "</style>\n",
              "<table border=\"1\" class=\"dataframe\">\n",
              "  <thead>\n",
              "    <tr style=\"text-align: right;\">\n",
              "      <th></th>\n",
              "      <th>Survived</th>\n",
              "      <th>Pclass</th>\n",
              "      <th>Name</th>\n",
              "      <th>Sex</th>\n",
              "      <th>Age</th>\n",
              "      <th>SibSp</th>\n",
              "      <th>Parch</th>\n",
              "      <th>Ticket</th>\n",
              "      <th>Fare</th>\n",
              "      <th>Cabin</th>\n",
              "      <th>Embarked</th>\n",
              "    </tr>\n",
              "    <tr>\n",
              "      <th>PassengerId</th>\n",
              "      <th></th>\n",
              "      <th></th>\n",
              "      <th></th>\n",
              "      <th></th>\n",
              "      <th></th>\n",
              "      <th></th>\n",
              "      <th></th>\n",
              "      <th></th>\n",
              "      <th></th>\n",
              "      <th></th>\n",
              "      <th></th>\n",
              "    </tr>\n",
              "  </thead>\n",
              "  <tbody>\n",
              "    <tr>\n",
              "      <th>0</th>\n",
              "      <td>1</td>\n",
              "      <td>1</td>\n",
              "      <td>Oconnor, Frankie</td>\n",
              "      <td>male</td>\n",
              "      <td>NaN</td>\n",
              "      <td>2</td>\n",
              "      <td>0</td>\n",
              "      <td>209245</td>\n",
              "      <td>27.14</td>\n",
              "      <td>C12239</td>\n",
              "      <td>S</td>\n",
              "    </tr>\n",
              "    <tr>\n",
              "      <th>1</th>\n",
              "      <td>0</td>\n",
              "      <td>3</td>\n",
              "      <td>Bryan, Drew</td>\n",
              "      <td>male</td>\n",
              "      <td>NaN</td>\n",
              "      <td>0</td>\n",
              "      <td>0</td>\n",
              "      <td>27323</td>\n",
              "      <td>13.35</td>\n",
              "      <td>NaN</td>\n",
              "      <td>S</td>\n",
              "    </tr>\n",
              "    <tr>\n",
              "      <th>2</th>\n",
              "      <td>0</td>\n",
              "      <td>3</td>\n",
              "      <td>Owens, Kenneth</td>\n",
              "      <td>male</td>\n",
              "      <td>0.33</td>\n",
              "      <td>1</td>\n",
              "      <td>2</td>\n",
              "      <td>CA 457703</td>\n",
              "      <td>71.29</td>\n",
              "      <td>NaN</td>\n",
              "      <td>S</td>\n",
              "    </tr>\n",
              "    <tr>\n",
              "      <th>3</th>\n",
              "      <td>0</td>\n",
              "      <td>3</td>\n",
              "      <td>Kramer, James</td>\n",
              "      <td>male</td>\n",
              "      <td>19.00</td>\n",
              "      <td>0</td>\n",
              "      <td>0</td>\n",
              "      <td>A. 10866</td>\n",
              "      <td>13.04</td>\n",
              "      <td>NaN</td>\n",
              "      <td>S</td>\n",
              "    </tr>\n",
              "    <tr>\n",
              "      <th>4</th>\n",
              "      <td>1</td>\n",
              "      <td>3</td>\n",
              "      <td>Bond, Michael</td>\n",
              "      <td>male</td>\n",
              "      <td>25.00</td>\n",
              "      <td>0</td>\n",
              "      <td>0</td>\n",
              "      <td>427635</td>\n",
              "      <td>7.76</td>\n",
              "      <td>NaN</td>\n",
              "      <td>S</td>\n",
              "    </tr>\n",
              "  </tbody>\n",
              "</table>\n",
              "</div>\n",
              "      <button class=\"colab-df-convert\" onclick=\"convertToInteractive('df-daf41f55-dc90-454c-82f7-3a12f0cb50b9')\"\n",
              "              title=\"Convert this dataframe to an interactive table.\"\n",
              "              style=\"display:none;\">\n",
              "        \n",
              "  <svg xmlns=\"http://www.w3.org/2000/svg\" height=\"24px\"viewBox=\"0 0 24 24\"\n",
              "       width=\"24px\">\n",
              "    <path d=\"M0 0h24v24H0V0z\" fill=\"none\"/>\n",
              "    <path d=\"M18.56 5.44l.94 2.06.94-2.06 2.06-.94-2.06-.94-.94-2.06-.94 2.06-2.06.94zm-11 1L8.5 8.5l.94-2.06 2.06-.94-2.06-.94L8.5 2.5l-.94 2.06-2.06.94zm10 10l.94 2.06.94-2.06 2.06-.94-2.06-.94-.94-2.06-.94 2.06-2.06.94z\"/><path d=\"M17.41 7.96l-1.37-1.37c-.4-.4-.92-.59-1.43-.59-.52 0-1.04.2-1.43.59L10.3 9.45l-7.72 7.72c-.78.78-.78 2.05 0 2.83L4 21.41c.39.39.9.59 1.41.59.51 0 1.02-.2 1.41-.59l7.78-7.78 2.81-2.81c.8-.78.8-2.07 0-2.86zM5.41 20L4 18.59l7.72-7.72 1.47 1.35L5.41 20z\"/>\n",
              "  </svg>\n",
              "      </button>\n",
              "      \n",
              "  <style>\n",
              "    .colab-df-container {\n",
              "      display:flex;\n",
              "      flex-wrap:wrap;\n",
              "      gap: 12px;\n",
              "    }\n",
              "\n",
              "    .colab-df-convert {\n",
              "      background-color: #E8F0FE;\n",
              "      border: none;\n",
              "      border-radius: 50%;\n",
              "      cursor: pointer;\n",
              "      display: none;\n",
              "      fill: #1967D2;\n",
              "      height: 32px;\n",
              "      padding: 0 0 0 0;\n",
              "      width: 32px;\n",
              "    }\n",
              "\n",
              "    .colab-df-convert:hover {\n",
              "      background-color: #E2EBFA;\n",
              "      box-shadow: 0px 1px 2px rgba(60, 64, 67, 0.3), 0px 1px 3px 1px rgba(60, 64, 67, 0.15);\n",
              "      fill: #174EA6;\n",
              "    }\n",
              "\n",
              "    [theme=dark] .colab-df-convert {\n",
              "      background-color: #3B4455;\n",
              "      fill: #D2E3FC;\n",
              "    }\n",
              "\n",
              "    [theme=dark] .colab-df-convert:hover {\n",
              "      background-color: #434B5C;\n",
              "      box-shadow: 0px 1px 3px 1px rgba(0, 0, 0, 0.15);\n",
              "      filter: drop-shadow(0px 1px 2px rgba(0, 0, 0, 0.3));\n",
              "      fill: #FFFFFF;\n",
              "    }\n",
              "  </style>\n",
              "\n",
              "      <script>\n",
              "        const buttonEl =\n",
              "          document.querySelector('#df-daf41f55-dc90-454c-82f7-3a12f0cb50b9 button.colab-df-convert');\n",
              "        buttonEl.style.display =\n",
              "          google.colab.kernel.accessAllowed ? 'block' : 'none';\n",
              "\n",
              "        async function convertToInteractive(key) {\n",
              "          const element = document.querySelector('#df-daf41f55-dc90-454c-82f7-3a12f0cb50b9');\n",
              "          const dataTable =\n",
              "            await google.colab.kernel.invokeFunction('convertToInteractive',\n",
              "                                                     [key], {});\n",
              "          if (!dataTable) return;\n",
              "\n",
              "          const docLinkHtml = 'Like what you see? Visit the ' +\n",
              "            '<a target=\"_blank\" href=https://colab.research.google.com/notebooks/data_table.ipynb>data table notebook</a>'\n",
              "            + ' to learn more about interactive tables.';\n",
              "          element.innerHTML = '';\n",
              "          dataTable['output_type'] = 'display_data';\n",
              "          await google.colab.output.renderOutput(dataTable, element);\n",
              "          const docLink = document.createElement('div');\n",
              "          docLink.innerHTML = docLinkHtml;\n",
              "          element.appendChild(docLink);\n",
              "        }\n",
              "      </script>\n",
              "    </div>\n",
              "  </div>\n",
              "  "
            ],
            "text/plain": [
              "             Survived  Pclass              Name   Sex    Age  SibSp  Parch  \\\n",
              "PassengerId                                                                  \n",
              "0                   1       1  Oconnor, Frankie  male    NaN      2      0   \n",
              "1                   0       3       Bryan, Drew  male    NaN      0      0   \n",
              "2                   0       3    Owens, Kenneth  male   0.33      1      2   \n",
              "3                   0       3     Kramer, James  male  19.00      0      0   \n",
              "4                   1       3     Bond, Michael  male  25.00      0      0   \n",
              "\n",
              "                Ticket   Fare   Cabin Embarked  \n",
              "PassengerId                                     \n",
              "0               209245  27.14  C12239        S  \n",
              "1                27323  13.35     NaN        S  \n",
              "2            CA 457703  71.29     NaN        S  \n",
              "3             A. 10866  13.04     NaN        S  \n",
              "4               427635   7.76     NaN        S  "
            ]
          },
          "metadata": {},
          "execution_count": 6
        }
      ]
    },
    {
      "cell_type": "markdown",
      "id": "d07912a0",
      "metadata": {
        "id": "d07912a0"
      },
      "source": [
        "# Context"
      ]
    },
    {
      "cell_type": "markdown",
      "source": [
        "У нас есть синтетическая база данных пассажиров титаника с 11 колонками. Данные по пассажиру включают столбец \"Выжил/ не вижил\", где 1 означает положительный исход. Далее идет информацию о классе каюты, имени и фамилии, поле, возрасте, количестве братьев и сестер, количестве детей и родителей, номер билета, стоимость билета, номер каюты и место посадки на борт (первая буква порта). "
      ],
      "metadata": {
        "id": "CKjxyI2Cqkj5"
      },
      "id": "CKjxyI2Cqkj5"
    },
    {
      "cell_type": "markdown",
      "id": "9b4320c6",
      "metadata": {
        "id": "9b4320c6"
      },
      "source": [
        "# Data quality assessment"
      ]
    },
    {
      "cell_type": "code",
      "execution_count": 7,
      "id": "e443ca82",
      "metadata": {
        "colab": {
          "base_uri": "https://localhost:8080/"
        },
        "id": "e443ca82",
        "outputId": "aeaaedd6-1493-4fe9-f479-c5b67b07dcb8"
      },
      "outputs": [
        {
          "output_type": "stream",
          "name": "stdout",
          "text": [
            "<class 'pandas.core.frame.DataFrame'>\n",
            "Int64Index: 100000 entries, 0 to 99999\n",
            "Data columns (total 11 columns):\n",
            " #   Column    Non-Null Count   Dtype  \n",
            "---  ------    --------------   -----  \n",
            " 0   Survived  100000 non-null  int64  \n",
            " 1   Pclass    100000 non-null  int64  \n",
            " 2   Name      100000 non-null  object \n",
            " 3   Sex       100000 non-null  object \n",
            " 4   Age       96708 non-null   float64\n",
            " 5   SibSp     100000 non-null  int64  \n",
            " 6   Parch     100000 non-null  int64  \n",
            " 7   Ticket    95377 non-null   object \n",
            " 8   Fare      99866 non-null   float64\n",
            " 9   Cabin     32134 non-null   object \n",
            " 10  Embarked  99750 non-null   object \n",
            "dtypes: float64(2), int64(4), object(5)\n",
            "memory usage: 9.2+ MB\n"
          ]
        }
      ],
      "source": [
        "titanic_data.info()"
      ]
    },
    {
      "cell_type": "markdown",
      "source": [
        "Видно, что всего строк 100_000. Заметим, что пропущены некоторые данные в стобце возраст, билет, стоимость билета и в столбце место посадки. Более значительные проблемы с столбцом \"Cabin\": там лишь около 32 тысячы из 100_000 значений присутствует."
      ],
      "metadata": {
        "id": "a-iVFARVr8OH"
      },
      "id": "a-iVFARVr8OH"
    },
    {
      "cell_type": "markdown",
      "source": [
        "Среди столбцов есть столбцы с данными переменными фиксированного класса: Survived, Sex, Embarked, порядковые переменные включают Pclass, а числовые переменные включают PassengerId, Age, SibSp, Parch, Fare."
      ],
      "metadata": {
        "id": "NDeCASBxs5bT"
      },
      "id": "NDeCASBxs5bT"
    },
    {
      "cell_type": "markdown",
      "source": [
        "В Sex данные по полу в рамках: male, female.\n",
        "Класс каюты согласно данным может быть либо 1, либо 2, либо 3.\n",
        "Порт-пасадки указан первой буквой порта:S', 'C', 'Q'."
      ],
      "metadata": {
        "id": "BDaTJAostPGa"
      },
      "id": "BDaTJAostPGa"
    },
    {
      "cell_type": "code",
      "source": [
        "titanic_data.duplicated().value_counts()"
      ],
      "metadata": {
        "colab": {
          "base_uri": "https://localhost:8080/"
        },
        "id": "mzKUFuIMuL5p",
        "outputId": "8838aea9-bb4a-416a-938c-cad1d69b2f53"
      },
      "id": "mzKUFuIMuL5p",
      "execution_count": 10,
      "outputs": [
        {
          "output_type": "execute_result",
          "data": {
            "text/plain": [
              "False    100000\n",
              "dtype: int64"
            ]
          },
          "metadata": {},
          "execution_count": 10
        }
      ]
    },
    {
      "cell_type": "markdown",
      "source": [
        "В наборе данных содержится 100_000 строк данных, которые не повторяются."
      ],
      "metadata": {
        "id": "2ncnnF_muUWL"
      },
      "id": "2ncnnF_muUWL"
    },
    {
      "cell_type": "code",
      "source": [
        "titanic_data.describe()"
      ],
      "metadata": {
        "colab": {
          "base_uri": "https://localhost:8080/",
          "height": 300
        },
        "id": "kBIMhh7eug9e",
        "outputId": "368e4c2f-5f0a-4ab2-ffc6-9eb07a79341c"
      },
      "id": "kBIMhh7eug9e",
      "execution_count": 11,
      "outputs": [
        {
          "output_type": "execute_result",
          "data": {
            "text/html": [
              "\n",
              "  <div id=\"df-67da40d0-0b75-4f11-a1a1-3bab3687124b\">\n",
              "    <div class=\"colab-df-container\">\n",
              "      <div>\n",
              "<style scoped>\n",
              "    .dataframe tbody tr th:only-of-type {\n",
              "        vertical-align: middle;\n",
              "    }\n",
              "\n",
              "    .dataframe tbody tr th {\n",
              "        vertical-align: top;\n",
              "    }\n",
              "\n",
              "    .dataframe thead th {\n",
              "        text-align: right;\n",
              "    }\n",
              "</style>\n",
              "<table border=\"1\" class=\"dataframe\">\n",
              "  <thead>\n",
              "    <tr style=\"text-align: right;\">\n",
              "      <th></th>\n",
              "      <th>Survived</th>\n",
              "      <th>Pclass</th>\n",
              "      <th>Age</th>\n",
              "      <th>SibSp</th>\n",
              "      <th>Parch</th>\n",
              "      <th>Fare</th>\n",
              "    </tr>\n",
              "  </thead>\n",
              "  <tbody>\n",
              "    <tr>\n",
              "      <th>count</th>\n",
              "      <td>100000.000000</td>\n",
              "      <td>100000.000000</td>\n",
              "      <td>96708.000000</td>\n",
              "      <td>100000.000000</td>\n",
              "      <td>100000.000000</td>\n",
              "      <td>99866.00000</td>\n",
              "    </tr>\n",
              "    <tr>\n",
              "      <th>mean</th>\n",
              "      <td>0.427740</td>\n",
              "      <td>2.106910</td>\n",
              "      <td>38.355472</td>\n",
              "      <td>0.397690</td>\n",
              "      <td>0.454560</td>\n",
              "      <td>43.92933</td>\n",
              "    </tr>\n",
              "    <tr>\n",
              "      <th>std</th>\n",
              "      <td>0.494753</td>\n",
              "      <td>0.837727</td>\n",
              "      <td>18.313556</td>\n",
              "      <td>0.862566</td>\n",
              "      <td>0.950076</td>\n",
              "      <td>69.58882</td>\n",
              "    </tr>\n",
              "    <tr>\n",
              "      <th>min</th>\n",
              "      <td>0.000000</td>\n",
              "      <td>1.000000</td>\n",
              "      <td>0.080000</td>\n",
              "      <td>0.000000</td>\n",
              "      <td>0.000000</td>\n",
              "      <td>0.68000</td>\n",
              "    </tr>\n",
              "    <tr>\n",
              "      <th>25%</th>\n",
              "      <td>0.000000</td>\n",
              "      <td>1.000000</td>\n",
              "      <td>25.000000</td>\n",
              "      <td>0.000000</td>\n",
              "      <td>0.000000</td>\n",
              "      <td>10.04000</td>\n",
              "    </tr>\n",
              "    <tr>\n",
              "      <th>50%</th>\n",
              "      <td>0.000000</td>\n",
              "      <td>2.000000</td>\n",
              "      <td>39.000000</td>\n",
              "      <td>0.000000</td>\n",
              "      <td>0.000000</td>\n",
              "      <td>24.46000</td>\n",
              "    </tr>\n",
              "    <tr>\n",
              "      <th>75%</th>\n",
              "      <td>1.000000</td>\n",
              "      <td>3.000000</td>\n",
              "      <td>53.000000</td>\n",
              "      <td>1.000000</td>\n",
              "      <td>1.000000</td>\n",
              "      <td>33.50000</td>\n",
              "    </tr>\n",
              "    <tr>\n",
              "      <th>max</th>\n",
              "      <td>1.000000</td>\n",
              "      <td>3.000000</td>\n",
              "      <td>87.000000</td>\n",
              "      <td>8.000000</td>\n",
              "      <td>9.000000</td>\n",
              "      <td>744.66000</td>\n",
              "    </tr>\n",
              "  </tbody>\n",
              "</table>\n",
              "</div>\n",
              "      <button class=\"colab-df-convert\" onclick=\"convertToInteractive('df-67da40d0-0b75-4f11-a1a1-3bab3687124b')\"\n",
              "              title=\"Convert this dataframe to an interactive table.\"\n",
              "              style=\"display:none;\">\n",
              "        \n",
              "  <svg xmlns=\"http://www.w3.org/2000/svg\" height=\"24px\"viewBox=\"0 0 24 24\"\n",
              "       width=\"24px\">\n",
              "    <path d=\"M0 0h24v24H0V0z\" fill=\"none\"/>\n",
              "    <path d=\"M18.56 5.44l.94 2.06.94-2.06 2.06-.94-2.06-.94-.94-2.06-.94 2.06-2.06.94zm-11 1L8.5 8.5l.94-2.06 2.06-.94-2.06-.94L8.5 2.5l-.94 2.06-2.06.94zm10 10l.94 2.06.94-2.06 2.06-.94-2.06-.94-.94-2.06-.94 2.06-2.06.94z\"/><path d=\"M17.41 7.96l-1.37-1.37c-.4-.4-.92-.59-1.43-.59-.52 0-1.04.2-1.43.59L10.3 9.45l-7.72 7.72c-.78.78-.78 2.05 0 2.83L4 21.41c.39.39.9.59 1.41.59.51 0 1.02-.2 1.41-.59l7.78-7.78 2.81-2.81c.8-.78.8-2.07 0-2.86zM5.41 20L4 18.59l7.72-7.72 1.47 1.35L5.41 20z\"/>\n",
              "  </svg>\n",
              "      </button>\n",
              "      \n",
              "  <style>\n",
              "    .colab-df-container {\n",
              "      display:flex;\n",
              "      flex-wrap:wrap;\n",
              "      gap: 12px;\n",
              "    }\n",
              "\n",
              "    .colab-df-convert {\n",
              "      background-color: #E8F0FE;\n",
              "      border: none;\n",
              "      border-radius: 50%;\n",
              "      cursor: pointer;\n",
              "      display: none;\n",
              "      fill: #1967D2;\n",
              "      height: 32px;\n",
              "      padding: 0 0 0 0;\n",
              "      width: 32px;\n",
              "    }\n",
              "\n",
              "    .colab-df-convert:hover {\n",
              "      background-color: #E2EBFA;\n",
              "      box-shadow: 0px 1px 2px rgba(60, 64, 67, 0.3), 0px 1px 3px 1px rgba(60, 64, 67, 0.15);\n",
              "      fill: #174EA6;\n",
              "    }\n",
              "\n",
              "    [theme=dark] .colab-df-convert {\n",
              "      background-color: #3B4455;\n",
              "      fill: #D2E3FC;\n",
              "    }\n",
              "\n",
              "    [theme=dark] .colab-df-convert:hover {\n",
              "      background-color: #434B5C;\n",
              "      box-shadow: 0px 1px 3px 1px rgba(0, 0, 0, 0.15);\n",
              "      filter: drop-shadow(0px 1px 2px rgba(0, 0, 0, 0.3));\n",
              "      fill: #FFFFFF;\n",
              "    }\n",
              "  </style>\n",
              "\n",
              "      <script>\n",
              "        const buttonEl =\n",
              "          document.querySelector('#df-67da40d0-0b75-4f11-a1a1-3bab3687124b button.colab-df-convert');\n",
              "        buttonEl.style.display =\n",
              "          google.colab.kernel.accessAllowed ? 'block' : 'none';\n",
              "\n",
              "        async function convertToInteractive(key) {\n",
              "          const element = document.querySelector('#df-67da40d0-0b75-4f11-a1a1-3bab3687124b');\n",
              "          const dataTable =\n",
              "            await google.colab.kernel.invokeFunction('convertToInteractive',\n",
              "                                                     [key], {});\n",
              "          if (!dataTable) return;\n",
              "\n",
              "          const docLinkHtml = 'Like what you see? Visit the ' +\n",
              "            '<a target=\"_blank\" href=https://colab.research.google.com/notebooks/data_table.ipynb>data table notebook</a>'\n",
              "            + ' to learn more about interactive tables.';\n",
              "          element.innerHTML = '';\n",
              "          dataTable['output_type'] = 'display_data';\n",
              "          await google.colab.output.renderOutput(dataTable, element);\n",
              "          const docLink = document.createElement('div');\n",
              "          docLink.innerHTML = docLinkHtml;\n",
              "          element.appendChild(docLink);\n",
              "        }\n",
              "      </script>\n",
              "    </div>\n",
              "  </div>\n",
              "  "
            ],
            "text/plain": [
              "            Survived         Pclass           Age          SibSp  \\\n",
              "count  100000.000000  100000.000000  96708.000000  100000.000000   \n",
              "mean        0.427740       2.106910     38.355472       0.397690   \n",
              "std         0.494753       0.837727     18.313556       0.862566   \n",
              "min         0.000000       1.000000      0.080000       0.000000   \n",
              "25%         0.000000       1.000000     25.000000       0.000000   \n",
              "50%         0.000000       2.000000     39.000000       0.000000   \n",
              "75%         1.000000       3.000000     53.000000       1.000000   \n",
              "max         1.000000       3.000000     87.000000       8.000000   \n",
              "\n",
              "               Parch         Fare  \n",
              "count  100000.000000  99866.00000  \n",
              "mean        0.454560     43.92933  \n",
              "std         0.950076     69.58882  \n",
              "min         0.000000      0.68000  \n",
              "25%         0.000000     10.04000  \n",
              "50%         0.000000     24.46000  \n",
              "75%         1.000000     33.50000  \n",
              "max         9.000000    744.66000  "
            ]
          },
          "metadata": {},
          "execution_count": 11
        }
      ]
    },
    {
      "cell_type": "markdown",
      "source": [
        "\n",
        "\n",
        "*   Из 100_000 пассажиров, совершивших эту поездку, 42,77% выжили.\n",
        "*   Среди всех пассажиров самому младшему всего 0,08 года, самому старшему - 87 лет, а средний возраст - около 39 лет.\n",
        "\n",
        "\n",
        "*   В среднем каждого пассажира сопровождают 0,398 брата и сестры и 0,45 родителей и детей.\n",
        "*   Пассажиры потратили на эту поездку в среднем 43,93 доллара США, максимум 744,66 доллара США.\n",
        "\n",
        "\n",
        "\n",
        "\n"
      ],
      "metadata": {
        "id": "dyjMc7e7ulQA"
      },
      "id": "dyjMc7e7ulQA"
    },
    {
      "cell_type": "markdown",
      "source": [
        "Заполним возраст средним по всем данным."
      ],
      "metadata": {
        "id": "cdm8CbpLwE9N"
      },
      "id": "cdm8CbpLwE9N"
    },
    {
      "cell_type": "code",
      "source": [
        "titanic_data['Age'] = titanic_data['Age'].fillna(titanic_data['Age'].mean()).astype(np.int64)"
      ],
      "metadata": {
        "id": "sE0uPQ4Sxd0T"
      },
      "id": "sE0uPQ4Sxd0T",
      "execution_count": 14,
      "outputs": []
    },
    {
      "cell_type": "markdown",
      "id": "5408eca5",
      "metadata": {
        "id": "5408eca5"
      },
      "source": [
        "# Data exploration"
      ]
    },
    {
      "cell_type": "markdown",
      "source": [
        "Посмотрим на распределения данных, которые имеем."
      ],
      "metadata": {
        "id": "zXWoTtWtyR9b"
      },
      "id": "zXWoTtWtyR9b"
    },
    {
      "cell_type": "code",
      "source": [
        "sns.countplot(x='Pclass',data=titanic_data)\n",
        "plt.title('Person Count Across on Pclass')\n",
        " \n",
        "plt.show()"
      ],
      "metadata": {
        "colab": {
          "base_uri": "https://localhost:8080/",
          "height": 295
        },
        "id": "MM7mDj5SyZPB",
        "outputId": "902a041d-def2-498b-91cc-27f2ce3d5c1e"
      },
      "id": "MM7mDj5SyZPB",
      "execution_count": 16,
      "outputs": [
        {
          "output_type": "display_data",
          "data": {
            "image/png": "[encoded data removed]",
            "text/plain": [
              "<Figure size 432x288 with 1 Axes>"
            ]
          },
          "metadata": {
            "needs_background": "light"
          }
        }
      ]
    },
    {
      "cell_type": "markdown",
      "source": [
        "Окей, людей, которые имели 3 класс каюты - больше всего."
      ],
      "metadata": {
        "id": "bjx_OEZPy-zC"
      },
      "id": "bjx_OEZPy-zC"
    },
    {
      "cell_type": "code",
      "source": [
        "print(pd.pivot_table(titanic_data, index = 'Pclass', values = 'Fare', aggfunc = 'mean'))"
      ],
      "metadata": {
        "colab": {
          "base_uri": "https://localhost:8080/"
        },
        "id": "10A9AurF0Q2Q",
        "outputId": "c21aed9f-ff39-4cbd-a011-0412b0808b66"
      },
      "id": "10A9AurF0Q2Q",
      "execution_count": 17,
      "outputs": [
        {
          "output_type": "stream",
          "name": "stdout",
          "text": [
            "             Fare\n",
            "Pclass           \n",
            "1       92.653113\n",
            "2       25.756003\n",
            "3       20.618226\n"
          ]
        }
      ]
    },
    {
      "cell_type": "markdown",
      "source": [
        "В среднем каюты 3 класса и стоили дешевле.\n"
      ],
      "metadata": {
        "id": "osrZoccX0ST_"
      },
      "id": "osrZoccX0ST_"
    },
    {
      "cell_type": "code",
      "source": [
        "sns.barplot (data = titanic_data, x = \"Pclass\", y = \"Survived\", ci = None) # ci означает доверительный интервал\n",
        " \n",
        "plt.show()"
      ],
      "metadata": {
        "colab": {
          "base_uri": "https://localhost:8080/",
          "height": 280
        },
        "id": "RGAjFFrz0geP",
        "outputId": "f7deac7e-bb50-47dd-a8cd-90f571123fd4"
      },
      "id": "RGAjFFrz0geP",
      "execution_count": 19,
      "outputs": [
        {
          "output_type": "display_data",
          "data": {
            "image/png": "[encoded data removed]",
            "text/plain": [
              "<Figure size 432x288 with 1 Axes>"
            ]
          },
          "metadata": {
            "needs_background": "light"
          }
        }
      ]
    },
    {
      "cell_type": "markdown",
      "source": [
        "А вот выживаемость тех, кто занимал каюту класса 3, меньше почти в два раза выживаемости кают других классов. У первого наибольшая, немногим меньше у кают второго класса."
      ],
      "metadata": {
        "id": "62erTwp40tJX"
      },
      "id": "62erTwp40tJX"
    },
    {
      "cell_type": "code",
      "source": [
        "sns.countplot(x='Sex',data=titanic_data)\n",
        "plt.title('Person Count Across on Sex')\n",
        " \n",
        "plt.show()"
      ],
      "metadata": {
        "colab": {
          "base_uri": "https://localhost:8080/",
          "height": 295
        },
        "id": "vkaTkwGjBCz6",
        "outputId": "41f94371-edf8-4a0b-8881-4ecb41e191ba"
      },
      "id": "vkaTkwGjBCz6",
      "execution_count": 48,
      "outputs": [
        {
          "output_type": "display_data",
          "data": {
            "image/png": "[encoded data removed]",
            "text/plain": [
              "<Figure size 432x288 with 1 Axes>"
            ]
          },
          "metadata": {
            "needs_background": "light"
          }
        }
      ]
    },
    {
      "cell_type": "markdown",
      "source": [
        "Мужчин было больше на тысяч 12."
      ],
      "metadata": {
        "id": "tTY9REgmBJmL"
      },
      "id": "tTY9REgmBJmL"
    },
    {
      "cell_type": "code",
      "source": [
        "sns.barplot(data=titanic_data,x='Sex',y='Survived',ci=None) \n",
        " \n",
        "plt.show()"
      ],
      "metadata": {
        "colab": {
          "base_uri": "https://localhost:8080/",
          "height": 279
        },
        "id": "T1vIZqdJ1V6j",
        "outputId": "def4acba-c3ae-4696-fc96-170662915bab"
      },
      "id": "T1vIZqdJ1V6j",
      "execution_count": 21,
      "outputs": [
        {
          "output_type": "display_data",
          "data": {
            "image/png": "[encoded data removed]",
            "text/plain": [
              "<Figure size 432x288 with 1 Axes>"
            ]
          },
          "metadata": {
            "needs_background": "light"
          }
        }
      ]
    },
    {
      "cell_type": "markdown",
      "source": [
        "Как видно, ДиКаприо сыграл довольно распространненого героя в этом плане. Выживаемость у мужчин намного меньше."
      ],
      "metadata": {
        "id": "m5onfjiA1nts"
      },
      "id": "m5onfjiA1nts"
    },
    {
      "cell_type": "code",
      "source": [
        "sns.pointplot(data=titanic_data,x='Pclass',y='Survived',hue='Sex',ci=None)\n",
        " \n",
        "plt.show()"
      ],
      "metadata": {
        "colab": {
          "base_uri": "https://localhost:8080/",
          "height": 283
        },
        "id": "RnRHzVxm2Cgq",
        "outputId": "f534c32d-94c1-40fc-de74-9ced3e73230b"
      },
      "id": "RnRHzVxm2Cgq",
      "execution_count": 23,
      "outputs": [
        {
          "output_type": "display_data",
          "data": {
            "image/png": "[encoded data removed]",
            "text/plain": [
              "<Figure size 432x288 with 1 Axes>"
            ]
          },
          "metadata": {
            "needs_background": "light"
          }
        }
      ]
    },
    {
      "cell_type": "markdown",
      "source": [
        "Леди в первых двух классах имеют практически одинаковую выживаемость, в третьем было проблемотичнее, но все равно: выжило больше половины. А вот мужчинам следовало бы выбивать каюту классом повыше, шанс падал примерно на 10 процентных пункта с каждым переходом между классами.\n"
      ],
      "metadata": {
        "id": "3WXzcNeR2QSe"
      },
      "id": "3WXzcNeR2QSe"
    },
    {
      "cell_type": "code",
      "source": [
        "titanic_data ['AgeGroup'] = pd.cut (titanic_data ['Age'], 6) \n",
        "titanic_data.AgeGroup.value_counts(sort=False)\n",
        "sns.barplot(data=titanic_data,x='AgeGroup',y='Survived',ci=None)\n",
        "plt.xticks (rotation=60)\n",
        " \n",
        " \n",
        "plt.show()"
      ],
      "metadata": {
        "colab": {
          "base_uri": "https://localhost:8080/",
          "height": 333
        },
        "id": "Oimz_DEx21w7",
        "outputId": "8cd1787b-8791-4de8-b0db-144b2ced670f"
      },
      "id": "Oimz_DEx21w7",
      "execution_count": 32,
      "outputs": [
        {
          "output_type": "display_data",
          "data": {
            "image/png": "[encoded data removed]",
            "text/plain": [
              "<Figure size 432x288 with 1 Axes>"
            ]
          },
          "metadata": {
            "needs_background": "light"
          }
        }
      ]
    },
    {
      "cell_type": "markdown",
      "source": [
        "Как правило, спасали детей и стариков."
      ],
      "metadata": {
        "id": "rJARwR3b35W4"
      },
      "id": "rJARwR3b35W4"
    },
    {
      "cell_type": "code",
      "source": [
        "sns.pointplot(data=titanic_data,x=\"AgeGroup\",y=\"Survived\",hue=\"Sex\",ci=None)\n",
        "             \n",
        "plt.xticks(rotation=60)\n",
        " \n",
        "plt.show()"
      ],
      "metadata": {
        "colab": {
          "base_uri": "https://localhost:8080/",
          "height": 333
        },
        "id": "3IWygcAb4LXF",
        "outputId": "10800011-ff9d-4232-a09f-1e8feff718bb"
      },
      "id": "3IWygcAb4LXF",
      "execution_count": 35,
      "outputs": [
        {
          "output_type": "display_data",
          "data": {
            "image/png": "[encoded data removed]",
            "text/plain": [
              "<Figure size 432x288 with 1 Axes>"
            ]
          },
          "metadata": {
            "needs_background": "light"
          }
        }
      ]
    },
    {
      "cell_type": "markdown",
      "source": [
        "Детский либо подростковый возраст не помогал мальчикам. Они разделяли общую долю мужчин на корабле. Выживаемость девушек по группам возраста имеет положительную тенденцию. Женщина растет - растет желание жить у девушки. А мужчин словно с 0 лет учат интересному \"благородству\"."
      ],
      "metadata": {
        "id": "wDTmFHrD4a1w"
      },
      "id": "wDTmFHrD4a1w"
    },
    {
      "cell_type": "code",
      "source": [
        "pd.pivot_table(titanic_data, index = 'Survived', values =['Age','SibSp','Parch','Fare'])"
      ],
      "metadata": {
        "colab": {
          "base_uri": "https://localhost:8080/",
          "height": 143
        },
        "id": "N7_b22wl5-pa",
        "outputId": "dc108258-329e-4d01-a3ed-ea34365355de"
      },
      "id": "N7_b22wl5-pa",
      "execution_count": 36,
      "outputs": [
        {
          "output_type": "execute_result",
          "data": {
            "text/html": [
              "\n",
              "  <div id=\"df-47bb5eb7-3f45-4f96-a9b8-ce4d1605d93e\">\n",
              "    <div class=\"colab-df-container\">\n",
              "      <div>\n",
              "<style scoped>\n",
              "    .dataframe tbody tr th:only-of-type {\n",
              "        vertical-align: middle;\n",
              "    }\n",
              "\n",
              "    .dataframe tbody tr th {\n",
              "        vertical-align: top;\n",
              "    }\n",
              "\n",
              "    .dataframe thead th {\n",
              "        text-align: right;\n",
              "    }\n",
              "</style>\n",
              "<table border=\"1\" class=\"dataframe\">\n",
              "  <thead>\n",
              "    <tr style=\"text-align: right;\">\n",
              "      <th></th>\n",
              "      <th>Age</th>\n",
              "      <th>Fare</th>\n",
              "      <th>Parch</th>\n",
              "      <th>SibSp</th>\n",
              "    </tr>\n",
              "    <tr>\n",
              "      <th>Survived</th>\n",
              "      <th></th>\n",
              "      <th></th>\n",
              "      <th></th>\n",
              "      <th></th>\n",
              "    </tr>\n",
              "  </thead>\n",
              "  <tbody>\n",
              "    <tr>\n",
              "      <th>0</th>\n",
              "      <td>36.746304</td>\n",
              "      <td>32.647516</td>\n",
              "      <td>0.435379</td>\n",
              "      <td>0.403348</td>\n",
              "    </tr>\n",
              "    <tr>\n",
              "      <th>1</th>\n",
              "      <td>40.467597</td>\n",
              "      <td>59.025192</td>\n",
              "      <td>0.480222</td>\n",
              "      <td>0.390120</td>\n",
              "    </tr>\n",
              "  </tbody>\n",
              "</table>\n",
              "</div>\n",
              "      <button class=\"colab-df-convert\" onclick=\"convertToInteractive('df-47bb5eb7-3f45-4f96-a9b8-ce4d1605d93e')\"\n",
              "              title=\"Convert this dataframe to an interactive table.\"\n",
              "              style=\"display:none;\">\n",
              "        \n",
              "  <svg xmlns=\"http://www.w3.org/2000/svg\" height=\"24px\"viewBox=\"0 0 24 24\"\n",
              "       width=\"24px\">\n",
              "    <path d=\"M0 0h24v24H0V0z\" fill=\"none\"/>\n",
              "    <path d=\"M18.56 5.44l.94 2.06.94-2.06 2.06-.94-2.06-.94-.94-2.06-.94 2.06-2.06.94zm-11 1L8.5 8.5l.94-2.06 2.06-.94-2.06-.94L8.5 2.5l-.94 2.06-2.06.94zm10 10l.94 2.06.94-2.06 2.06-.94-2.06-.94-.94-2.06-.94 2.06-2.06.94z\"/><path d=\"M17.41 7.96l-1.37-1.37c-.4-.4-.92-.59-1.43-.59-.52 0-1.04.2-1.43.59L10.3 9.45l-7.72 7.72c-.78.78-.78 2.05 0 2.83L4 21.41c.39.39.9.59 1.41.59.51 0 1.02-.2 1.41-.59l7.78-7.78 2.81-2.81c.8-.78.8-2.07 0-2.86zM5.41 20L4 18.59l7.72-7.72 1.47 1.35L5.41 20z\"/>\n",
              "  </svg>\n",
              "      </button>\n",
              "      \n",
              "  <style>\n",
              "    .colab-df-container {\n",
              "      display:flex;\n",
              "      flex-wrap:wrap;\n",
              "      gap: 12px;\n",
              "    }\n",
              "\n",
              "    .colab-df-convert {\n",
              "      background-color: #E8F0FE;\n",
              "      border: none;\n",
              "      border-radius: 50%;\n",
              "      cursor: pointer;\n",
              "      display: none;\n",
              "      fill: #1967D2;\n",
              "      height: 32px;\n",
              "      padding: 0 0 0 0;\n",
              "      width: 32px;\n",
              "    }\n",
              "\n",
              "    .colab-df-convert:hover {\n",
              "      background-color: #E2EBFA;\n",
              "      box-shadow: 0px 1px 2px rgba(60, 64, 67, 0.3), 0px 1px 3px 1px rgba(60, 64, 67, 0.15);\n",
              "      fill: #174EA6;\n",
              "    }\n",
              "\n",
              "    [theme=dark] .colab-df-convert {\n",
              "      background-color: #3B4455;\n",
              "      fill: #D2E3FC;\n",
              "    }\n",
              "\n",
              "    [theme=dark] .colab-df-convert:hover {\n",
              "      background-color: #434B5C;\n",
              "      box-shadow: 0px 1px 3px 1px rgba(0, 0, 0, 0.15);\n",
              "      filter: drop-shadow(0px 1px 2px rgba(0, 0, 0, 0.3));\n",
              "      fill: #FFFFFF;\n",
              "    }\n",
              "  </style>\n",
              "\n",
              "      <script>\n",
              "        const buttonEl =\n",
              "          document.querySelector('#df-47bb5eb7-3f45-4f96-a9b8-ce4d1605d93e button.colab-df-convert');\n",
              "        buttonEl.style.display =\n",
              "          google.colab.kernel.accessAllowed ? 'block' : 'none';\n",
              "\n",
              "        async function convertToInteractive(key) {\n",
              "          const element = document.querySelector('#df-47bb5eb7-3f45-4f96-a9b8-ce4d1605d93e');\n",
              "          const dataTable =\n",
              "            await google.colab.kernel.invokeFunction('convertToInteractive',\n",
              "                                                     [key], {});\n",
              "          if (!dataTable) return;\n",
              "\n",
              "          const docLinkHtml = 'Like what you see? Visit the ' +\n",
              "            '<a target=\"_blank\" href=https://colab.research.google.com/notebooks/data_table.ipynb>data table notebook</a>'\n",
              "            + ' to learn more about interactive tables.';\n",
              "          element.innerHTML = '';\n",
              "          dataTable['output_type'] = 'display_data';\n",
              "          await google.colab.output.renderOutput(dataTable, element);\n",
              "          const docLink = document.createElement('div');\n",
              "          docLink.innerHTML = docLinkHtml;\n",
              "          element.appendChild(docLink);\n",
              "        }\n",
              "      </script>\n",
              "    </div>\n",
              "  </div>\n",
              "  "
            ],
            "text/plain": [
              "                Age       Fare     Parch     SibSp\n",
              "Survived                                          \n",
              "0         36.746304  32.647516  0.435379  0.403348\n",
              "1         40.467597  59.025192  0.480222  0.390120"
            ]
          },
          "metadata": {},
          "execution_count": 36
        }
      ]
    },
    {
      "cell_type": "markdown",
      "source": [
        "В среднем, если ты заплатил больше - больше шанс выжить(больше заплатил - лучше класс каюты)."
      ],
      "metadata": {
        "id": "Yy7iTNkT5_x-"
      },
      "id": "Yy7iTNkT5_x-"
    },
    {
      "cell_type": "code",
      "source": [
        "print(pd.pivot_table(titanic_data, index = 'Survived', columns = 'Embarked', values = 'Name', aggfunc = 'count'))\n",
        "print(pd.pivot_table(titanic_data, index = 'Sex', columns = 'Embarked', values = 'Name', aggfunc = 'count'))"
      ],
      "metadata": {
        "colab": {
          "base_uri": "https://localhost:8080/"
        },
        "id": "7HG4Ksjp64el",
        "outputId": "d68fb245-ae65-45f3-c31f-600adef369fa"
      },
      "id": "7HG4Ksjp64el",
      "execution_count": 37,
      "outputs": [
        {
          "output_type": "stream",
          "name": "stdout",
          "text": [
            "Embarked      C     Q      S\n",
            "Survived                    \n",
            "0          5518  2186  49394\n",
            "1         16669  3238  22745\n",
            "Embarked      C     Q      S\n",
            "Sex                         \n",
            "female    15786  3852  24117\n",
            "male       6401  1572  48022\n"
          ]
        }
      ]
    },
    {
      "cell_type": "markdown",
      "source": [
        "Больше всего не повезло тем, кто сел на борт в Саутгемптоне. Понятно почему, там попала на борт основная масса мужчин (благородных). А наименее благородные в Шербуре?"
      ],
      "metadata": {
        "id": "0dwnFFpQ654K"
      },
      "id": "0dwnFFpQ654K"
    },
    {
      "cell_type": "code",
      "source": [
        "sns.pointplot(data=titanic_data,x=\"Embarked\",y=\"Survived\",hue=\"Sex\",ci=None)\n",
        "             \n",
        "plt.xticks(rotation=60)\n",
        " \n",
        "plt.show()"
      ],
      "metadata": {
        "colab": {
          "base_uri": "https://localhost:8080/",
          "height": 281
        },
        "id": "nbbuWVQW7se8",
        "outputId": "e1ac74c8-3a94-426b-f72d-16d5a3ef6de1"
      },
      "id": "nbbuWVQW7se8",
      "execution_count": 38,
      "outputs": [
        {
          "output_type": "display_data",
          "data": {
            "image/png": "[encoded data removed]",
            "text/plain": [
              "<Figure size 432x288 with 1 Axes>"
            ]
          },
          "metadata": {
            "needs_background": "light"
          }
        }
      ]
    },
    {
      "cell_type": "markdown",
      "source": [
        "Да, именно там! Причем, как мужчины, так и женщины имели большее желание жить."
      ],
      "metadata": {
        "id": "PLTq57T88FLe"
      },
      "id": "PLTq57T88FLe"
    },
    {
      "cell_type": "code",
      "source": [
        "sns.FacetGrid(data=titanic_data,row=\"AgeGroup\",aspect=2.5)\\\n",
        ".map(sns.pointplot,\"Embarked\",\"Survived\",\"Sex\",hue_order=[\"male\",\"female\"],ci=None,palette=\"deep\", \n",
        "     markers=[\"^\", \"o\"], linestyles=[\"-\", \"--\"]).add_legend()\n",
        " \n",
        "plt.show()"
      ],
      "metadata": {
        "colab": {
          "base_uri": "https://localhost:8080/",
          "height": 1000
        },
        "id": "RJaYBY0w8p2E",
        "outputId": "a343948d-402a-49db-c8ae-2c3c1a5c1804"
      },
      "id": "RJaYBY0w8p2E",
      "execution_count": 44,
      "outputs": [
        {
          "output_type": "stream",
          "name": "stderr",
          "text": [
            "/usr/local/lib/python3.7/dist-packages/seaborn/axisgrid.py:670: UserWarning: Using the pointplot function without specifying `order` is likely to produce an incorrect plot.\n",
            "  warnings.warn(warning)\n"
          ]
        },
        {
          "output_type": "display_data",
          "data": {
            "image/png": "[encoded data removed]",
            "text/plain": [
              "<Figure size 610.5x1296 with 6 Axes>"
            ]
          },
          "metadata": {
            "needs_background": "light"
          }
        }
      ]
    },
    {
      "cell_type": "markdown",
      "source": [
        "И да, начинали ценить жизнь мужчины в этом городе с 40 лет."
      ],
      "metadata": {
        "id": "q35RYITl9O2x"
      },
      "id": "q35RYITl9O2x"
    },
    {
      "cell_type": "code",
      "source": [
        "print(pd.pivot_table(titanic_data, index = 'Pclass', columns = 'Sex', values = 'Name', aggfunc = 'count'))"
      ],
      "metadata": {
        "colab": {
          "base_uri": "https://localhost:8080/"
        },
        "id": "tyd24MTJ9mNj",
        "outputId": "274913a5-9789-4bc8-8b41-cec58f1b9d98"
      },
      "id": "tyd24MTJ9mNj",
      "execution_count": 41,
      "outputs": [
        {
          "output_type": "stream",
          "name": "stdout",
          "text": [
            "Sex     female   male\n",
            "Pclass               \n",
            "1        16084  14231\n",
            "2        15283  13396\n",
            "3        12519  28487\n"
          ]
        }
      ]
    },
    {
      "cell_type": "markdown",
      "source": [
        "В третьем классе мужчин было больше, чем в других классах(которые в среднем благородны. Понятно, почему такая невыживаемость, связанная с классом. Или это класс влиял на то, что мы считаем мужчин такими благородными?"
      ],
      "metadata": {
        "id": "BCmBnBL39n8f"
      },
      "id": "BCmBnBL39n8f"
    },
    {
      "cell_type": "code",
      "source": [
        "sns.pointplot(data=titanic_data,x='Pclass',y='Survived',hue='Sex',ci=None)\n",
        " \n",
        "plt.show()"
      ],
      "metadata": {
        "colab": {
          "base_uri": "https://localhost:8080/",
          "height": 283
        },
        "id": "Eb-Vvmck-ivY",
        "outputId": "3fd7e153-2b89-41c9-fa21-603cdd4aac72"
      },
      "id": "Eb-Vvmck-ivY",
      "execution_count": 42,
      "outputs": [
        {
          "output_type": "display_data",
          "data": {
            "image/png": "[encoded data removed]",
            "text/plain": [
              "<Figure size 432x288 with 1 Axes>"
            ]
          },
          "metadata": {
            "needs_background": "light"
          }
        }
      ]
    },
    {
      "cell_type": "markdown",
      "source": [
        "Все-таки в 3 классе действительно было сложнее всем. "
      ],
      "metadata": {
        "id": "tNbREP4M-kNn"
      },
      "id": "tNbREP4M-kNn"
    },
    {
      "cell_type": "code",
      "source": [
        "\n",
        "print(pd.pivot_table(titanic_data, index = 'Pclass', columns = 'Embarked', values = 'Name', aggfunc = 'count'))"
      ],
      "metadata": {
        "colab": {
          "base_uri": "https://localhost:8080/"
        },
        "id": "6nV7lExQ-5xv",
        "outputId": "cf91e047-aca2-4a9c-8e59-f255071f47c9"
      },
      "id": "6nV7lExQ-5xv",
      "execution_count": 47,
      "outputs": [
        {
          "output_type": "stream",
          "name": "stdout",
          "text": [
            "Embarked      C     Q      S\n",
            "Pclass                      \n",
            "1         11843  3751  14635\n",
            "2          6156   844  21609\n",
            "3          4188   829  35895\n"
          ]
        }
      ]
    },
    {
      "cell_type": "markdown",
      "source": [
        "А наибольшая доля \"первоклассных\" садилась именно во французском городе."
      ],
      "metadata": {
        "id": "3VLXQ_ozAB6Z"
      },
      "id": "3VLXQ_ozAB6Z"
    },
    {
      "cell_type": "markdown",
      "id": "034945c8",
      "metadata": {
        "id": "034945c8"
      },
      "source": [
        "# Summary"
      ]
    },
    {
      "cell_type": "markdown",
      "source": [
        "Размер выборки - 100_000. После кораблекрушения выжило 42,77%\n",
        "\n",
        "На Титанике есть три типа кают: первый, второй и третий класс, среди которых первый класс имеет самую высокую вероятность выживания, за ним следует второй класс, а третий класс имеет самую низкую вероятность.\n",
        "\n",
        "Мужчин на борту было больше примерно на 12 тысяч. Выживаемость женщин намного выше, чем у мужчин. Видно, что женщины с большей вероятностью выживут в этой аварии, чем мужчины, что указывает на то, что в этой аварии был применен принцип «дамы прежде всего»."
      ],
      "metadata": {
        "id": "5xIpRQkeAMmh"
      },
      "id": "5xIpRQkeAMmh"
    },
    {
      "cell_type": "markdown",
      "source": [
        "В принципе, касаемо выживаемости слегка соблюдался принцип \"любить детей и уважать стариков\". "
      ],
      "metadata": {
        "id": "_zqcUWpuB0BJ"
      },
      "id": "_zqcUWpuB0BJ"
    },
    {
      "cell_type": "markdown",
      "source": [
        "Люди, которые сели в Шербуре, имели большую выживаемость. Связано с тем, что наибольшая доля \"первоклассников\" была именно с этого города."
      ],
      "metadata": {
        "id": "9pOTWiPFB_1b"
      },
      "id": "9pOTWiPFB_1b"
    },
    {
      "cell_type": "code",
      "source": [
        ""
      ],
      "metadata": {
        "id": "LFWUhFIfCaj7"
      },
      "id": "LFWUhFIfCaj7",
      "execution_count": null,
      "outputs": []
    }
  ],
  "metadata": {
    "kernelspec": {
      "display_name": "Python 3 (ipykernel)",
      "language": "python",
      "name": "python3"
    },
    "language_info": {
      "codemirror_mode": {
        "name": "ipython",
        "version": 3
      },
      "file_extension": ".py",
      "mimetype": "text/x-python",
      "name": "python",
      "nbconvert_exporter": "python",
      "pygments_lexer": "ipython3",
      "version": "3.8.12"
    },
    "toc": {
      "base_numbering": 1,
      "nav_menu": {},
      "number_sections": true,
      "sideBar": true,
      "skip_h1_title": false,
      "title_cell": "Table of Contents",
      "title_sidebar": "Contents",
      "toc_cell": false,
      "toc_position": {},
      "toc_section_display": true,
      "toc_window_display": false
    },
    "colab": {
      "name": "eda.ipynb",
      "provenance": [],
      "collapsed_sections": [],
      "include_colab_link": true
    }
  },
  "nbformat": 4,
  "nbformat_minor": 5
}